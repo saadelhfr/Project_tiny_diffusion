{
 "cells": [
  {
   "cell_type": "code",
   "execution_count": 2,
   "metadata": {},
   "outputs": [
    {
     "name": "stderr",
     "output_type": "stream",
     "text": [
      "/Data/anaconda3/lib/python3.11/site-packages/pandas/core/arrays/masked.py:60: UserWarning: Pandas requires version '1.3.6' or newer of 'bottleneck' (version '1.3.5' currently installed).\n",
      "  from pandas.core import (\n"
     ]
    }
   ],
   "source": [
    "from src.layers.Models import TinyDiffusion \n",
    "from src.layers.seq2seq import Seq2Seq\n",
    "from torch.utils.data import DataLoader\n",
    "from src.data.BaseData import DataSetTinyDiffusion\n",
    "from src.utils.manage_device import select_device"
   ]
  },
  {
   "cell_type": "code",
   "execution_count": 3,
   "metadata": {},
   "outputs": [
    {
     "name": "stdout",
     "output_type": "stream",
     "text": [
      "torch.Size([1, 1, 256])\n"
     ]
    }
   ],
   "source": [
    "sequence_model = Seq2Seq(\n",
    "    depth=2 , \n",
    "    size = 256 , \n",
    "    hidden_dim=256 ,\n",
    "    output_dim=2 , \n",
    "    pos_emb=\"sinusoidal\" ,\n",
    "    input_size=2 , \n",
    "    device=\"cuda\"\n",
    ")"
   ]
  },
  {
   "cell_type": "code",
   "execution_count": 17,
   "metadata": {},
   "outputs": [
    {
     "name": "stdout",
     "output_type": "stream",
     "text": [
      "[<torch.utils.data.dataset.TensorDataset object at 0x7f4fbd142610>]\n"
     ]
    }
   ],
   "source": [
    "data_set = DataSetTinyDiffusion(name_dataset=(\"dino\" , \"\") , **{\n",
    "'number_data_points': 10000, 'joined': 0, 'device' : 'cuda:0'\n",
    "}\n",
    ") \n",
    "data_loader = DataLoader(data_set, batch_size=200, shuffle=True)"
   ]
  },
  {
   "cell_type": "code",
   "execution_count": 18,
   "metadata": {},
   "outputs": [],
   "source": [
    "device = \"cuda\""
   ]
  },
  {
   "cell_type": "code",
   "execution_count": 19,
   "metadata": {},
   "outputs": [],
   "source": [
    "cfg ={'device': 'cuda', \n",
    "      'model_type': {'model_name': 'Residual_only'}, \n",
    "      'model': {'depth': 3, 'size': 250, 'hidden_dim': 750, 'output_dim': 2, 'pos_emb': 'sinusoidal', 'input_size': 2}, \n",
    "      'trainer': {'num_epoch': 50, 'batch_size': 64, 'gradient_clip_threshhold': 1, 'eval_frequency': 10, 'sample_size': 2000}, \n",
    "      'dataset': {'number_data_points': 10000, 'joined': 0, 'name_dataset': [['dino', ''], ['mnist', 'density_map_0.pt']]}, \n",
    "      'optimizer': {'lr': 0.001, 'weight_decay': 0}, \n",
    "      'Diffusion': {'num_timesteps': 250, 'beta_start': 0.0001, 'beta_end': 0.02, 'beta_schedule': 'quadratic'}}\n",
    " "
   ]
  },
  {
   "cell_type": "code",
   "execution_count": 20,
   "metadata": {},
   "outputs": [],
   "source": [
    "optimizer_config = {**cfg[\"optimizer\"]}\n",
    "diff_config = {**cfg[\"Diffusion\"], \"device\": device}"
   ]
  },
  {
   "cell_type": "code",
   "execution_count": 21,
   "metadata": {},
   "outputs": [],
   "source": [
    "import torch\n",
    "from src.layers.model import Noise_Scheduler\n",
    "optimizer = torch.optim.Adam(sequence_model.parameters(), **optimizer_config)\n",
    "diffusion = Noise_Scheduler(**diff_config)\n"
   ]
  },
  {
   "cell_type": "code",
   "execution_count": 22,
   "metadata": {},
   "outputs": [],
   "source": [
    "from src.utils.training import Trainer\n"
   ]
  },
  {
   "cell_type": "code",
   "execution_count": 23,
   "metadata": {},
   "outputs": [],
   "source": [
    "trainer = Trainer(\n",
    "    model = sequence_model , \n",
    "    noise_scheduler= diffusion ,\n",
    "    optimizer = optimizer ,\n",
    "    criterion= torch.nn.MSELoss() ,\n",
    "    device= device , \n",
    ")"
   ]
  },
  {
   "cell_type": "code",
   "execution_count": null,
   "metadata": {},
   "outputs": [],
   "source": [
    "trainer.train_seq2seq(num_epochs=100 , batch_size=200 , gradient_clipthres= 1 , train_loader=data_loader )"
   ]
  }
 ],
 "metadata": {
  "kernelspec": {
   "display_name": "base",
   "language": "python",
   "name": "python3"
  },
  "language_info": {
   "codemirror_mode": {
    "name": "ipython",
    "version": 3
   },
   "file_extension": ".py",
   "mimetype": "text/x-python",
   "name": "python",
   "nbconvert_exporter": "python",
   "pygments_lexer": "ipython3",
   "version": "3.11.5"
  }
 },
 "nbformat": 4,
 "nbformat_minor": 2
}
