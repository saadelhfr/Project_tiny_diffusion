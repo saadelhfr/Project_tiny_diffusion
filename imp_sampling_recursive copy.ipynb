{
 "cells": [
  {
   "cell_type": "code",
   "execution_count": null,
   "metadata": {},
   "outputs": [],
   "source": [
    "import numpy as np \n",
    "from scipy.special import k1\n",
    "import pandas as pd \n",
    "from scipy.stats import norminvgauss \n",
    "from tqdm import tqdm \n",
    "\n",
    "def sample_nig(num , alpha , beta , gamma , mu ): \n",
    "    return norminvgauss.rvs(alpha*gamma , beta*gamma , mu , gamma , size = num  ) \n",
    "\n",
    "def pdf_nig(x , alpha, beta , gamma , mu ): \n",
    "    return norminvgauss.pdf(x  , alpha*gamma  , beta*gamma , mu , gamma  )\n",
    "\n",
    "def pdf_nig_man(x , alpha , beta , gamma , mu ): \n",
    "    lambda_ = np.sqrt(alpha ** 2 - beta ** 2 ) \n",
    "    part1 = alpha * gamma * k1(alpha * np.sqrt( gamma ** 2 + (x- mu)**2))\n",
    "    part2 = np.pi * np.sqrt(gamma**2 + (x-mu) ** 2 )\n",
    "    part3 = np.exp(gamma * lambda_ + beta* (x- mu  )) \n",
    "    return (part1/ part2 ) * part3 \n",
    "print(pdf_nig(0.1 , 2 , 0.2 , 0.8 , 0.04 ))\n",
    "print(pdf_nig_man(0.1 , 2 , 0.2 , 0.8 , 0.04 ))\n",
    "import numpy as np\n",
    "from scipy.special import kv  # modified Bessel Kν\n",
    "\n",
    "def p_prime(x, alpha, beta, gamma, mu):\n",
    "    delta = gamma                   # follow the user's naming\n",
    "    t = x - mu\n",
    "    R = np.sqrt(delta**2 + t**2)\n",
    "    z = alpha * R\n",
    "\n",
    "    K0 = kv(0, z)\n",
    "    K1 = kv(1, z)\n",
    "    K2 = kv(2, z)\n",
    "\n",
    "    big_gamma = np.sqrt(alpha**2 - beta**2)   # γ = √(α²−β²)\n",
    "    C = (alpha * delta / np.pi) * np.exp(delta * big_gamma + beta * t)\n",
    "\n",
    "    term1 = beta * K1 / R\n",
    "    term2 = t / R**3 * (-(alpha * R * (K0 + K2) / 2) - K1)\n",
    "\n",
    "    return C * (term1 + term2)\n",
    "\n",
    "\n",
    "def payoff_fn(x , K ): \n",
    "    return 50 * np.max( np.exp(x) - K  , 0 ) \n",
    "def H1(x , K , theta , alpha , beta , gamma , mu ): \n",
    "    part1 = np.exp(-2 * np.abs(theta)) \n",
    "    part2 = payoff_fn(x , K )**2 \n",
    "    part3 = p_prime(x - 2*theta , alpha , beta , gamma , mu ) / pdf_nig(x , alpha , beta , gamma , mu ) \n",
    "    part4 = (pdf_nig(x - theta , alpha , beta , gamma , mu   ) / pdf_nig(x - 2*theta , alpha , beta , gamma , mu ))**2 \n",
    "    return part1 * part2 * part3 * part4 \n",
    "\n",
    "def phi(theta , alpha , beta , gamma , mu ): \n",
    "    return mu*theta + gamma * (np.sqrt(alpha ** 2 - beta ** 2 ) - np.sqrt(alpha ** 2  - (beta + theta )**2 )) \n",
    "def phi_prime(theta, alpha, beta, gamma, mu):\n",
    "    return mu + gamma * (beta + theta) / np.sqrt(alpha**2 - (beta + theta)**2)\n",
    "\n",
    "def T(theta, alpha , beta ): \n",
    "    return ( beta - alpha )* theta / np.sqrt(1 + theta**2 )\n",
    "\n",
    "def T_prime(theta , alpha , beta ): \n",
    "    return (beta - alpha )/ (np.sqrt(1 +theta**2 ) ** 3 )\n",
    "def H2( x , K , theta , alpha , beta , gamma , mu ): \n",
    "    part1 = np.exp(-np.abs(theta )) \n",
    "    part2 = payoff_fn(x , K)**2 \n",
    "    part3 = (phi_prime(theta , alpha , beta , gamma , mu ) - x )\n",
    "\n",
    "    return part1 * part2 * part3\n",
    "\n",
    "    \n",
    "def get_theta_translation(theta_0 , K , num_iter , alpha , beta , gamma , mu ): \n",
    "    samples = sample_nig(num_iter , alpha , beta , gamma , mu ) \n",
    "    for i in tqdm(range(num_iter)): # on ajout le calcul par T pour stabilise \n",
    "        #theta = T(theta_0 , alpha , beta )\n",
    "        step = 1 / (1000 + i )\n",
    "        #theta_0 -= step * T_prime(theta_0 , alpha, beta ) *  H1(samples[i] , K , theta, alpha , beta , gamma, mu )  \n",
    "        theta_0 -= step *   H1(samples[i] , K , theta_0, alpha , beta , gamma, mu )  \n",
    "\n",
    "    return T(theta_0 , alpha , beta ) \n",
    "def get_theta_escher(theta_0 , K , num_iter , alpha , beta , gamma , mu ): \n",
    "    for i in tqdm(range(num_iter)) : \n",
    "        theta = T(theta_0 , alpha, beta )\n",
    "        sample = sample_nig(1 , alpha , beta - theta , gamma , mu )[0] \n",
    "        step = 1 / (1000 + i ) \n",
    "        theta_0 -= step * T_prime(theta_0 , alpha , beta )* H2(sample , K , theta , alpha , beta , gamma , mu )\n",
    "\n",
    "    return T(theta_0  , alpha , beta ) \n",
    "def simulate_mc_crude(num_iter , strike  , alpha , beta , gamma , mu ) :\n",
    "    value_0 = 0 \n",
    "    samples = sample_nig(num_iter , alpha , beta , gamma , mu )\n",
    "    for i in range(num_iter): \n",
    "        value_0 += payoff_fn(samples[i] , strike) \n",
    "\n",
    "    return value_0/num_iter  \n"
   ]
  },
  {
   "cell_type": "code",
   "execution_count": 29,
   "metadata": {},
   "outputs": [
    {
     "data": {
      "text/plain": [
       "20.05257342002527"
      ]
     },
     "execution_count": 29,
     "metadata": {},
     "output_type": "execute_result"
    }
   ],
   "source": [
    "simulate_mc_crude( 10000 , 1 , 2 , 0.2 , 0.8 , 0.04 )"
   ]
  },
  {
   "cell_type": "code",
   "execution_count": 30,
   "metadata": {},
   "outputs": [
    {
     "name": "stderr",
     "output_type": "stream",
     "text": [
      "100%|██████████████████████████████████████████████████████████████████████████████████████████████████████████████████████████████████████████████| 100000/100000 [00:07<00:00, 12565.33it/s]\n"
     ]
    }
   ],
   "source": [
    "thet_escher = get_theta_escher(0.3 , 1 , 100000 , 2 , 0.2 , 0.8 , 0.04 )"
   ]
  },
  {
   "cell_type": "code",
   "execution_count": 31,
   "metadata": {},
   "outputs": [
    {
     "data": {
      "text/plain": [
       "1.79298962248385"
      ]
     },
     "execution_count": 31,
     "metadata": {},
     "output_type": "execute_result"
    }
   ],
   "source": [
    "thet_escher"
   ]
  },
  {
   "cell_type": "code",
   "execution_count": 32,
   "metadata": {},
   "outputs": [
    {
     "name": "stderr",
     "output_type": "stream",
     "text": [
      "100%|███████████████████████████████████████████████████████████████████████████████████████████████████████████████████████████████████████████████| 100000/100000 [00:19<00:00, 5150.68it/s]\n"
     ]
    }
   ],
   "source": [
    "thet_trans = get_theta_translation(0.3, 1 , 100000 , 2 , 0.2 , 0.8 , 0.04 )"
   ]
  },
  {
   "cell_type": "code",
   "execution_count": 33,
   "metadata": {},
   "outputs": [
    {
     "data": {
      "text/plain": [
       "-1.7992567651863451"
      ]
     },
     "execution_count": 33,
     "metadata": {},
     "output_type": "execute_result"
    }
   ],
   "source": [
    "thet_trans"
   ]
  },
  {
   "cell_type": "code",
   "execution_count": 34,
   "metadata": {},
   "outputs": [],
   "source": [
    "def MC_translation(M  , K , theta_opt , alpha , beta , gamma , mu ) :  \n",
    "    val_ = 0 \n",
    "\n",
    "    for i in tqdm(range(M)  ) : \n",
    "        sample = sample_nig(K , alpha , beta , gamma , mu )[0] \n",
    "        val_ += payoff_fn(sample , K ) *  pdf_nig(sample  + theta_opt , alpha , beta , gamma , mu ) / pdf_nig(sample  + theta_opt , alpha , beta , gamma , mu )\n",
    "\n",
    "    return val_/M"
   ]
  },
  {
   "cell_type": "code",
   "execution_count": 35,
   "metadata": {},
   "outputs": [
    {
     "name": "stderr",
     "output_type": "stream",
     "text": [
      "100%|███████████████████████████████████████████████████████████████████████████████████████████████████████████████████████████████████████████████| 100000/100000 [00:19<00:00, 5176.57it/s]\n"
     ]
    }
   ],
   "source": [
    "price = MC_translation(100000 , 1 , thet_trans , 2 , 0.2  , 0.8 , 0.04 )"
   ]
  },
  {
   "cell_type": "code",
   "execution_count": 36,
   "metadata": {},
   "outputs": [
    {
     "data": {
      "text/plain": [
       "20.834591772974896"
      ]
     },
     "execution_count": 36,
     "metadata": {},
     "output_type": "execute_result"
    }
   ],
   "source": [
    "price"
   ]
  },
  {
   "cell_type": "code",
   "execution_count": 37,
   "metadata": {},
   "outputs": [],
   "source": [
    "def MC_esher(M , K , theta_opt , alpha , beta , gamma , mu ) : \n",
    "    val_ = 0 \n",
    "\n",
    "    for i in tqdm(range(M)) : \n",
    "        sample = sample_nig(1 , alpha , beta + theta_opt , gamma , mu  )[0] \n",
    "        val_ += payoff_fn(sample , K )* np.exp(- theta_opt * sample)\n",
    "    mean = val_ \n",
    "    mean = mean * np.exp(phi(theta_opt , alpha , beta , gamma , mu )) /M \n",
    "\n",
    "    return mean "
   ]
  },
  {
   "cell_type": "code",
   "execution_count": 39,
   "metadata": {},
   "outputs": [],
   "source": [
    "def MC_esscher(M, K, theta_opt, alpha, beta, gamma, mu):\n",
    "    assert abs(beta + theta_opt) < alpha, \"Esscher θ outside NIG CGF domain\"\n",
    "\n",
    "    total = 0.0\n",
    "    for _ in tqdm(range(M)):\n",
    "        x = np.squeeze(sample_nig(1, alpha, beta + theta_opt, gamma, mu))\n",
    "        total += payoff_fn(x, K) * np.exp(-theta_opt * x)\n",
    "\n",
    "    estimate = (total / M) * np.exp(phi(theta_opt, alpha, beta, gamma, mu))\n",
    "    return estimate"
   ]
  },
  {
   "cell_type": "code",
   "execution_count": 40,
   "metadata": {},
   "outputs": [
    {
     "name": "stderr",
     "output_type": "stream",
     "text": [
      " 46%|██████████████████████████████████████████████████████████████████▍                                                                            | 46420/100000 [00:03<00:03, 13796.92it/s]/var/folders/hl/wrf9xwx508315bwwmp8vgxp80000gn/T/ipykernel_26327/3373073489.py:2: RuntimeWarning: overflow encountered in exp\n",
      "  return 50 * np.max( np.exp(x) - K  , 0 )\n",
      "/var/folders/hl/wrf9xwx508315bwwmp8vgxp80000gn/T/ipykernel_26327/4004288728.py:6: RuntimeWarning: invalid value encountered in scalar multiply\n",
      "  val_ += payoff_fn(sample , K )* np.exp(- theta_opt * sample)\n",
      "100%|██████████████████████████████████████████████████████████████████████████████████████████████████████████████████████████████████████████████| 100000/100000 [00:07<00:00, 13616.01it/s]\n"
     ]
    }
   ],
   "source": [
    "price_escher = MC_esher(100000 , 1, thet_escher , 2 , 0.2 , 0.8 , 0.04 )"
   ]
  },
  {
   "cell_type": "code",
   "execution_count": 41,
   "metadata": {},
   "outputs": [
    {
     "data": {
      "text/plain": [
       "nan"
      ]
     },
     "execution_count": 41,
     "metadata": {},
     "output_type": "execute_result"
    }
   ],
   "source": [
    "price_escher"
   ]
  },
  {
   "cell_type": "code",
   "execution_count": null,
   "metadata": {},
   "outputs": [],
   "source": []
  }
 ],
 "metadata": {
  "kernelspec": {
   "display_name": "Python 3 (ipykernel)",
   "language": "python",
   "name": "python3"
  },
  "language_info": {
   "codemirror_mode": {
    "name": "ipython",
    "version": 3
   },
   "file_extension": ".py",
   "mimetype": "text/x-python",
   "name": "python",
   "nbconvert_exporter": "python",
   "pygments_lexer": "ipython3",
   "version": "3.11.5"
  }
 },
 "nbformat": 4,
 "nbformat_minor": 2
}
